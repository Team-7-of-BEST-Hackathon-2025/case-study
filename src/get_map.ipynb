{
 "cells": [
  {
   "cell_type": "code",
   "execution_count": 1,
   "id": "f88a513a",
   "metadata": {},
   "outputs": [],
   "source": [
    "import pandas as pd\n",
    "import numpy as np\n",
    "import folium\n",
    "import geopandas as gpd\n",
    "from folium.plugins import MarkerCluster\n",
    "from shapely.geometry import Point\n",
    "from IPython.display import IFrame"
   ]
  },
  {
   "cell_type": "code",
   "execution_count": null,
   "id": "ba7585bd",
   "metadata": {},
   "outputs": [],
   "source": [
    "df = pd.read_csv('data/processed.csv')\n",
    "\n",
    "sampled_df = df.sample(1000, random_state=1)"
   ]
  },
  {
   "cell_type": "code",
   "execution_count": null,
   "id": "04312b20",
   "metadata": {},
   "outputs": [],
   "source": [
    "# Create GeoDataFrame\n",
    "gdf = gpd.GeoDataFrame(sampled_df, geometry=gpd.points_from_xy(sampled_df['CLAIM_LONGITUDE'], sampled_df['CLAIM_LATITUDE']))\n",
    "gdf = gdf.set_index('CLAIM_ID')\n",
    "\n",
    "# Initialize Folium map\n",
    "m = folium.Map(location=[sampled_df['CLAIM_LATITUDE'].mean(), sampled_df['CLAIM_LONGITUDE'].mean()], zoom_start=6)\n",
    "\n",
    "# Create a MarkerCluster\n",
    "marker_cluster = MarkerCluster().add_to(m)\n",
    "\n",
    "# Add markers to the cluster\n",
    "for _, row in gdf.iterrows():\n",
    "    folium.Marker(\n",
    "        location=[row['CLAIM_LATITUDE'], row['CLAIM_LONGITUDE']],\n",
    "        popup=row['CLAIM_PROVINCE'],\n",
    "        icon=folium.Icon(color='blue')\n",
    "    ).add_to(marker_cluster)\n",
    "\n",
    "# Save the map\n",
    "m.save('data/folium_map.html')\n",
    "\n",
    "# Display the map in notebook\n",
    "#IFrame('data/folium_map.html', width=800, height=600)\n",
    "\n",
    "# Show the map (in interactive environments)\n",
    "#m\n"
   ]
  }
 ],
 "metadata": {
  "kernelspec": {
   "display_name": "myenv",
   "language": "python",
   "name": "python3"
  },
  "language_info": {
   "codemirror_mode": {
    "name": "ipython",
    "version": 3
   },
   "file_extension": ".py",
   "mimetype": "text/x-python",
   "name": "python",
   "nbconvert_exporter": "python",
   "pygments_lexer": "ipython3",
   "version": "3.10.12"
  }
 },
 "nbformat": 4,
 "nbformat_minor": 5
}
